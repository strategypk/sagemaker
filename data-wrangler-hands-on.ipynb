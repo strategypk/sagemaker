{
 "cells": [
  {
   "cell_type": "code",
   "execution_count": 3,
   "id": "9394be35",
   "metadata": {
    "tags": []
   },
   "outputs": [],
   "source": [
    "from sagemaker.s3 import S3Uploader\n",
    "import sagemaker"
   ]
  },
  {
   "cell_type": "code",
   "execution_count": 4,
   "id": "10b98703",
   "metadata": {
    "tags": []
   },
   "outputs": [],
   "source": [
    "sagemaker_session = sagemaker.Session()\n",
    "bucket = sagemaker_session.default_bucket()\n",
    "prefix = 'data-wrangler-demo'"
   ]
  },
  {
   "cell_type": "code",
   "execution_count": 5,
   "id": "5026ac27",
   "metadata": {
    "tags": []
   },
   "outputs": [
    {
     "name": "stdout",
     "output_type": "stream",
     "text": [
      "--2023-06-22 07:20:05--  https://sagemaker-sample-files.s3.amazonaws.com/datasets/tabular/uci_statlog_german_credit_data/german_credit_data.csv\n",
      "Resolving sagemaker-sample-files.s3.amazonaws.com (sagemaker-sample-files.s3.amazonaws.com)... 52.217.69.28, 52.217.174.137, 52.217.168.249, ...\n",
      "Connecting to sagemaker-sample-files.s3.amazonaws.com (sagemaker-sample-files.s3.amazonaws.com)|52.217.69.28|:443... connected.\n",
      "HTTP request sent, awaiting response... 200 OK\n",
      "Length: 99589 (97K) [text/csv]\n",
      "Saving to: ‘german_credit_data.csv.1’\n",
      "\n",
      "german_credit_data. 100%[===================>]  97.25K  --.-KB/s    in 0.001s  \n",
      "\n",
      "2023-06-22 07:20:05 (118 MB/s) - ‘german_credit_data.csv.1’ saved [99589/99589]\n",
      "\n"
     ]
    }
   ],
   "source": [
    "!wget https://sagemaker-sample-files.s3.amazonaws.com/datasets/tabular/uci_statlog_german_credit_data/german_credit_data.csv\n"
   ]
  },
  {
   "cell_type": "code",
   "execution_count": 6,
   "id": "e00aeb5b",
   "metadata": {
    "tags": []
   },
   "outputs": [
    {
     "name": "stdout",
     "output_type": "stream",
     "text": [
      "Data uploaded to: s3://sagemaker-us-east-1-348693786573/data-wrangler-demo/german_credit_data.csv\n"
     ]
    }
   ],
   "source": [
    "dataset_uri = S3Uploader.upload('german_credit_data.csv', 's3://{}/{}'.format(bucket,prefix))\n",
    "print('Data uploaded to: {}'.format(dataset_uri))"
   ]
  },
  {
   "cell_type": "code",
   "execution_count": 7,
   "id": "1d1f34c3",
   "metadata": {
    "tags": []
   },
   "outputs": [
    {
     "data": {
      "text/plain": [
       "'sagemaker-us-east-1-348693786573'"
      ]
     },
     "execution_count": 7,
     "metadata": {},
     "output_type": "execute_result"
    }
   ],
   "source": [
    "bucket"
   ]
  },
  {
   "cell_type": "code",
   "execution_count": 8,
   "id": "7c2abe1f",
   "metadata": {
    "tags": []
   },
   "outputs": [
    {
     "name": "stdout",
     "output_type": "stream",
     "text": [
      "total 2848\n",
      "-rw-r--r-- 1 root root 706058 Jun 22 07:13  DataWranglerBETH.flow\n",
      "-rw-r--r-- 1 root root 780556 Jun 22 07:13  DataWranglerStroke.flow\n",
      "-rw-r--r-- 1 root root  34115 Jun 22 07:13 'Modern Text Generation.ipynb'\n",
      "-rw-r--r-- 1 root root      6 Jun 22 07:14  README.md\n",
      "-rw-r--r-- 1 root root  15278 Jun 22 07:13 'Text Generation Inference.ipynb'\n",
      "-rw-r--r-- 1 root root  36562 Jun 22 07:13 'Text Generation.ipynb'\n",
      "-rw-r--r-- 1 root root 580615 Jun 22 07:18  cyber-security-aws-wrangler-beth-eda-processing-and-model-training.ipynb\n",
      "-rw-r--r-- 1 root root  11037 Jun 22 07:19  data-wrangler-hands-on.ipynb\n",
      "-rw-r--r-- 1 root root  99589 Jun 22 07:17  german_credit_data.csv\n",
      "-rw-r--r-- 1 root root  99589 Apr 16  2021  german_credit_data.csv.1\n",
      "-rw-r--r-- 1 root root    959 Jun 22 07:13  labels.pkl\n",
      "-rw-r--r-- 1 root root 164773 Jun 22 07:16  sagemaker_immersion_lab1_2.ipynb\n",
      "-rw-r--r-- 1 root root   5122 Jun 22 07:14  sagemaker_immersion_lab3.ipynb\n",
      "-rw-r--r-- 1 root root 278068 Jun 22 07:14  sagemaker_immersion_lab4.ipynb\n",
      "-rw-r--r-- 1 root root  46713 Jun 22 07:14  sagemaker_immersion_lab5.ipynb\n",
      "-rw-r--r-- 1 root root   1292 Jun 22 07:12  test_data.csv\n",
      "-rw-r--r-- 1 root root   1175 Jun 22 07:12  test_data_no_header.csv\n",
      "-rw-r--r-- 1 root root  13782 Jun 22 07:18  wrangler.ipynb\n"
     ]
    }
   ],
   "source": [
    "ls -l"
   ]
  },
  {
   "cell_type": "code",
   "execution_count": 10,
   "id": "27529372-acee-472d-acf3-4cd841421f63",
   "metadata": {
    "tags": []
   },
   "outputs": [
    {
     "name": "stdout",
     "output_type": "stream",
     "text": [
      "Initialized empty Git repository in /root/mls/wrangler/.git/\n"
     ]
    }
   ],
   "source": [
    "!git init"
   ]
  },
  {
   "cell_type": "code",
   "execution_count": 11,
   "id": "210cb5e0",
   "metadata": {
    "tags": []
   },
   "outputs": [],
   "source": [
    "!git add ."
   ]
  },
  {
   "cell_type": "markdown",
   "id": "dc7a1a92",
   "metadata": {},
   "source": [
    "!git commit -m \"sagemaker-june22\""
   ]
  },
  {
   "cell_type": "code",
   "execution_count": 12,
   "id": "879cbf0d",
   "metadata": {
    "tags": []
   },
   "outputs": [],
   "source": [
    "!git config --global user.name \"PK\""
   ]
  },
  {
   "cell_type": "code",
   "execution_count": 13,
   "id": "6f74a603",
   "metadata": {
    "tags": []
   },
   "outputs": [],
   "source": [
    "# !git config --global pk.gmail strategypk@gmail.com\n",
    "!git config --global user.email strategypk@gmail.com"
   ]
  },
  {
   "cell_type": "code",
   "execution_count": 15,
   "id": "93c3da80-d24d-4277-b421-7b55394ef8c6",
   "metadata": {
    "tags": []
   },
   "outputs": [],
   "source": [
    "!git remote add origin https://github.com/strategypk/sagemaker.git"
   ]
  },
  {
   "cell_type": "code",
   "execution_count": 16,
   "id": "7bed6cd0",
   "metadata": {
    "tags": []
   },
   "outputs": [
    {
     "name": "stdout",
     "output_type": "stream",
     "text": [
      "fatal: The current branch master has no upstream branch.\n",
      "To push the current branch and set the remote as upstream, use\n",
      "\n",
      "    git push --set-upstream origin master\n",
      "\n"
     ]
    }
   ],
   "source": [
    "!git push \n"
   ]
  },
  {
   "cell_type": "code",
   "execution_count": 20,
   "id": "f3237501",
   "metadata": {},
   "outputs": [
    {
     "name": "stdout",
     "output_type": "stream",
     "text": [
      "total 7448\n",
      "-rw-rw-r-- 1 ec2-user ec2-user    3274 Jun  8 04:52 002 - Sessions.ipynb\n",
      "-rw-rw-r-- 1 ec2-user ec2-user   18730 Jun  8 04:52 005 - Glue Catalog.ipynb\n",
      "-rw-rw-r-- 1 ec2-user ec2-user   17501 Jun  9 13:09 01-prep_data.ipynb\n",
      "-rw-rw-r-- 1 ec2-user ec2-user 3391420 Jun  7 23:11 adult.csv\n",
      "-rw-rw-r-- 1 ec2-user ec2-user  969287 Feb 16  2021 bucket\n",
      "-rw-rw-r-- 1 ec2-user ec2-user  970457 Jun  7 23:11 churn.csv\n",
      "-rw-rw-r-- 1 ec2-user ec2-user  969287 Feb 16  2021 churn.txt\n",
      "-rw-rw-r-- 1 ec2-user ec2-user  184983 Jun 10 21:58 data-wrangler-hands-on.ipynb\n",
      "-rw-rw-r-- 1 ec2-user ec2-user   99589 Apr 16  2021 german_credit_data.csv\n",
      "drwxrwxr-x 5 ec2-user ec2-user    4096 Jun 10 04:53 \u001b[0m\u001b[01;34mModel-Hallucination\u001b[0m/\n",
      "-rw-rw-r-- 1 ec2-user ec2-user      13 Jun  7 23:11 README.md\n",
      "drwxrwxr-x 5 ec2-user ec2-user    4096 Jun  8 20:49 \u001b[01;34msagemaker\u001b[0m/\n",
      "-rw-rw-r-- 1 ec2-user ec2-user    3274 Jun  8 04:52 tutorial\n",
      "-rw-rw-r-- 1 ec2-user ec2-user  970457 Jun  7 23:11 WA_Fn-UseC_-Telco-Customer-Churn.csv\n"
     ]
    }
   ],
   "source": [
    "ls -l"
   ]
  },
  {
   "cell_type": "code",
   "execution_count": 21,
   "id": "1b205b4c",
   "metadata": {},
   "outputs": [],
   "source": [
    "mkdir wrangler"
   ]
  },
  {
   "cell_type": "code",
   "execution_count": 22,
   "id": "57cd8199",
   "metadata": {},
   "outputs": [
    {
     "data": {
      "text/plain": [
       "<function dir>"
      ]
     },
     "execution_count": 22,
     "metadata": {},
     "output_type": "execute_result"
    }
   ],
   "source": [
    "dir\n"
   ]
  },
  {
   "cell_type": "code",
   "execution_count": 23,
   "id": "e8247779",
   "metadata": {},
   "outputs": [
    {
     "name": "stdout",
     "output_type": "stream",
     "text": [
      "002 - Sessions.ipynb          german_credit_data.csv\n",
      "005 - Glue Catalog.ipynb      \u001b[0m\u001b[01;34mModel-Hallucination\u001b[0m/\n",
      "01-prep_data.ipynb            README.md\n",
      "adult.csv                     \u001b[01;34msagemaker\u001b[0m/\n",
      "bucket                        tutorial\n",
      "churn.csv                     WA_Fn-UseC_-Telco-Customer-Churn.csv\n",
      "churn.txt                     \u001b[01;34mwrangler\u001b[0m/\n",
      "data-wrangler-hands-on.ipynb\n"
     ]
    }
   ],
   "source": [
    "ls"
   ]
  },
  {
   "cell_type": "code",
   "execution_count": 24,
   "id": "6b007763",
   "metadata": {},
   "outputs": [],
   "source": [
    "mv ger*.* ./wrangler"
   ]
  },
  {
   "cell_type": "code",
   "execution_count": 25,
   "id": "9a57865a",
   "metadata": {},
   "outputs": [
    {
     "name": "stdout",
     "output_type": "stream",
     "text": [
      "total 7352\n",
      "-rw-rw-r-- 1 ec2-user ec2-user    3274 Jun  8 04:52 002 - Sessions.ipynb\n",
      "-rw-rw-r-- 1 ec2-user ec2-user   18730 Jun  8 04:52 005 - Glue Catalog.ipynb\n",
      "-rw-rw-r-- 1 ec2-user ec2-user   17501 Jun  9 13:09 01-prep_data.ipynb\n",
      "-rw-rw-r-- 1 ec2-user ec2-user 3391420 Jun  7 23:11 adult.csv\n",
      "-rw-rw-r-- 1 ec2-user ec2-user  969287 Feb 16  2021 bucket\n",
      "-rw-rw-r-- 1 ec2-user ec2-user  970457 Jun  7 23:11 churn.csv\n",
      "-rw-rw-r-- 1 ec2-user ec2-user  969287 Feb 16  2021 churn.txt\n",
      "-rw-rw-r-- 1 ec2-user ec2-user  186307 Jun 10 22:00 data-wrangler-hands-on.ipynb\n",
      "drwxrwxr-x 5 ec2-user ec2-user    4096 Jun 10 04:53 \u001b[0m\u001b[01;34mModel-Hallucination\u001b[0m/\n",
      "-rw-rw-r-- 1 ec2-user ec2-user      13 Jun  7 23:11 README.md\n",
      "drwxrwxr-x 5 ec2-user ec2-user    4096 Jun  8 20:49 \u001b[01;34msagemaker\u001b[0m/\n",
      "-rw-rw-r-- 1 ec2-user ec2-user    3274 Jun  8 04:52 tutorial\n",
      "-rw-rw-r-- 1 ec2-user ec2-user  970457 Jun  7 23:11 WA_Fn-UseC_-Telco-Customer-Churn.csv\n",
      "drwxrwxr-x 2 ec2-user ec2-user    4096 Jun 10 22:02 \u001b[01;34mwrangler\u001b[0m/\n"
     ]
    }
   ],
   "source": [
    "ls -l\n"
   ]
  },
  {
   "cell_type": "code",
   "execution_count": null,
   "id": "26818c7a",
   "metadata": {},
   "outputs": [],
   "source": []
  }
 ],
 "metadata": {
  "availableInstances": [
   {
    "_defaultOrder": 0,
    "_isFastLaunch": true,
    "category": "General purpose",
    "gpuNum": 0,
    "hideHardwareSpecs": false,
    "memoryGiB": 4,
    "name": "ml.t3.medium",
    "vcpuNum": 2
   },
   {
    "_defaultOrder": 1,
    "_isFastLaunch": false,
    "category": "General purpose",
    "gpuNum": 0,
    "hideHardwareSpecs": false,
    "memoryGiB": 8,
    "name": "ml.t3.large",
    "vcpuNum": 2
   },
   {
    "_defaultOrder": 2,
    "_isFastLaunch": false,
    "category": "General purpose",
    "gpuNum": 0,
    "hideHardwareSpecs": false,
    "memoryGiB": 16,
    "name": "ml.t3.xlarge",
    "vcpuNum": 4
   },
   {
    "_defaultOrder": 3,
    "_isFastLaunch": false,
    "category": "General purpose",
    "gpuNum": 0,
    "hideHardwareSpecs": false,
    "memoryGiB": 32,
    "name": "ml.t3.2xlarge",
    "vcpuNum": 8
   },
   {
    "_defaultOrder": 4,
    "_isFastLaunch": true,
    "category": "General purpose",
    "gpuNum": 0,
    "hideHardwareSpecs": false,
    "memoryGiB": 8,
    "name": "ml.m5.large",
    "vcpuNum": 2
   },
   {
    "_defaultOrder": 5,
    "_isFastLaunch": false,
    "category": "General purpose",
    "gpuNum": 0,
    "hideHardwareSpecs": false,
    "memoryGiB": 16,
    "name": "ml.m5.xlarge",
    "vcpuNum": 4
   },
   {
    "_defaultOrder": 6,
    "_isFastLaunch": false,
    "category": "General purpose",
    "gpuNum": 0,
    "hideHardwareSpecs": false,
    "memoryGiB": 32,
    "name": "ml.m5.2xlarge",
    "vcpuNum": 8
   },
   {
    "_defaultOrder": 7,
    "_isFastLaunch": false,
    "category": "General purpose",
    "gpuNum": 0,
    "hideHardwareSpecs": false,
    "memoryGiB": 64,
    "name": "ml.m5.4xlarge",
    "vcpuNum": 16
   },
   {
    "_defaultOrder": 8,
    "_isFastLaunch": false,
    "category": "General purpose",
    "gpuNum": 0,
    "hideHardwareSpecs": false,
    "memoryGiB": 128,
    "name": "ml.m5.8xlarge",
    "vcpuNum": 32
   },
   {
    "_defaultOrder": 9,
    "_isFastLaunch": false,
    "category": "General purpose",
    "gpuNum": 0,
    "hideHardwareSpecs": false,
    "memoryGiB": 192,
    "name": "ml.m5.12xlarge",
    "vcpuNum": 48
   },
   {
    "_defaultOrder": 10,
    "_isFastLaunch": false,
    "category": "General purpose",
    "gpuNum": 0,
    "hideHardwareSpecs": false,
    "memoryGiB": 256,
    "name": "ml.m5.16xlarge",
    "vcpuNum": 64
   },
   {
    "_defaultOrder": 11,
    "_isFastLaunch": false,
    "category": "General purpose",
    "gpuNum": 0,
    "hideHardwareSpecs": false,
    "memoryGiB": 384,
    "name": "ml.m5.24xlarge",
    "vcpuNum": 96
   },
   {
    "_defaultOrder": 12,
    "_isFastLaunch": false,
    "category": "General purpose",
    "gpuNum": 0,
    "hideHardwareSpecs": false,
    "memoryGiB": 8,
    "name": "ml.m5d.large",
    "vcpuNum": 2
   },
   {
    "_defaultOrder": 13,
    "_isFastLaunch": false,
    "category": "General purpose",
    "gpuNum": 0,
    "hideHardwareSpecs": false,
    "memoryGiB": 16,
    "name": "ml.m5d.xlarge",
    "vcpuNum": 4
   },
   {
    "_defaultOrder": 14,
    "_isFastLaunch": false,
    "category": "General purpose",
    "gpuNum": 0,
    "hideHardwareSpecs": false,
    "memoryGiB": 32,
    "name": "ml.m5d.2xlarge",
    "vcpuNum": 8
   },
   {
    "_defaultOrder": 15,
    "_isFastLaunch": false,
    "category": "General purpose",
    "gpuNum": 0,
    "hideHardwareSpecs": false,
    "memoryGiB": 64,
    "name": "ml.m5d.4xlarge",
    "vcpuNum": 16
   },
   {
    "_defaultOrder": 16,
    "_isFastLaunch": false,
    "category": "General purpose",
    "gpuNum": 0,
    "hideHardwareSpecs": false,
    "memoryGiB": 128,
    "name": "ml.m5d.8xlarge",
    "vcpuNum": 32
   },
   {
    "_defaultOrder": 17,
    "_isFastLaunch": false,
    "category": "General purpose",
    "gpuNum": 0,
    "hideHardwareSpecs": false,
    "memoryGiB": 192,
    "name": "ml.m5d.12xlarge",
    "vcpuNum": 48
   },
   {
    "_defaultOrder": 18,
    "_isFastLaunch": false,
    "category": "General purpose",
    "gpuNum": 0,
    "hideHardwareSpecs": false,
    "memoryGiB": 256,
    "name": "ml.m5d.16xlarge",
    "vcpuNum": 64
   },
   {
    "_defaultOrder": 19,
    "_isFastLaunch": false,
    "category": "General purpose",
    "gpuNum": 0,
    "hideHardwareSpecs": false,
    "memoryGiB": 384,
    "name": "ml.m5d.24xlarge",
    "vcpuNum": 96
   },
   {
    "_defaultOrder": 20,
    "_isFastLaunch": false,
    "category": "General purpose",
    "gpuNum": 0,
    "hideHardwareSpecs": true,
    "memoryGiB": 0,
    "name": "ml.geospatial.interactive",
    "supportedImageNames": [
     "sagemaker-geospatial-v1-0"
    ],
    "vcpuNum": 0
   },
   {
    "_defaultOrder": 21,
    "_isFastLaunch": true,
    "category": "Compute optimized",
    "gpuNum": 0,
    "hideHardwareSpecs": false,
    "memoryGiB": 4,
    "name": "ml.c5.large",
    "vcpuNum": 2
   },
   {
    "_defaultOrder": 22,
    "_isFastLaunch": false,
    "category": "Compute optimized",
    "gpuNum": 0,
    "hideHardwareSpecs": false,
    "memoryGiB": 8,
    "name": "ml.c5.xlarge",
    "vcpuNum": 4
   },
   {
    "_defaultOrder": 23,
    "_isFastLaunch": false,
    "category": "Compute optimized",
    "gpuNum": 0,
    "hideHardwareSpecs": false,
    "memoryGiB": 16,
    "name": "ml.c5.2xlarge",
    "vcpuNum": 8
   },
   {
    "_defaultOrder": 24,
    "_isFastLaunch": false,
    "category": "Compute optimized",
    "gpuNum": 0,
    "hideHardwareSpecs": false,
    "memoryGiB": 32,
    "name": "ml.c5.4xlarge",
    "vcpuNum": 16
   },
   {
    "_defaultOrder": 25,
    "_isFastLaunch": false,
    "category": "Compute optimized",
    "gpuNum": 0,
    "hideHardwareSpecs": false,
    "memoryGiB": 72,
    "name": "ml.c5.9xlarge",
    "vcpuNum": 36
   },
   {
    "_defaultOrder": 26,
    "_isFastLaunch": false,
    "category": "Compute optimized",
    "gpuNum": 0,
    "hideHardwareSpecs": false,
    "memoryGiB": 96,
    "name": "ml.c5.12xlarge",
    "vcpuNum": 48
   },
   {
    "_defaultOrder": 27,
    "_isFastLaunch": false,
    "category": "Compute optimized",
    "gpuNum": 0,
    "hideHardwareSpecs": false,
    "memoryGiB": 144,
    "name": "ml.c5.18xlarge",
    "vcpuNum": 72
   },
   {
    "_defaultOrder": 28,
    "_isFastLaunch": false,
    "category": "Compute optimized",
    "gpuNum": 0,
    "hideHardwareSpecs": false,
    "memoryGiB": 192,
    "name": "ml.c5.24xlarge",
    "vcpuNum": 96
   },
   {
    "_defaultOrder": 29,
    "_isFastLaunch": true,
    "category": "Accelerated computing",
    "gpuNum": 1,
    "hideHardwareSpecs": false,
    "memoryGiB": 16,
    "name": "ml.g4dn.xlarge",
    "vcpuNum": 4
   },
   {
    "_defaultOrder": 30,
    "_isFastLaunch": false,
    "category": "Accelerated computing",
    "gpuNum": 1,
    "hideHardwareSpecs": false,
    "memoryGiB": 32,
    "name": "ml.g4dn.2xlarge",
    "vcpuNum": 8
   },
   {
    "_defaultOrder": 31,
    "_isFastLaunch": false,
    "category": "Accelerated computing",
    "gpuNum": 1,
    "hideHardwareSpecs": false,
    "memoryGiB": 64,
    "name": "ml.g4dn.4xlarge",
    "vcpuNum": 16
   },
   {
    "_defaultOrder": 32,
    "_isFastLaunch": false,
    "category": "Accelerated computing",
    "gpuNum": 1,
    "hideHardwareSpecs": false,
    "memoryGiB": 128,
    "name": "ml.g4dn.8xlarge",
    "vcpuNum": 32
   },
   {
    "_defaultOrder": 33,
    "_isFastLaunch": false,
    "category": "Accelerated computing",
    "gpuNum": 4,
    "hideHardwareSpecs": false,
    "memoryGiB": 192,
    "name": "ml.g4dn.12xlarge",
    "vcpuNum": 48
   },
   {
    "_defaultOrder": 34,
    "_isFastLaunch": false,
    "category": "Accelerated computing",
    "gpuNum": 1,
    "hideHardwareSpecs": false,
    "memoryGiB": 256,
    "name": "ml.g4dn.16xlarge",
    "vcpuNum": 64
   },
   {
    "_defaultOrder": 35,
    "_isFastLaunch": false,
    "category": "Accelerated computing",
    "gpuNum": 1,
    "hideHardwareSpecs": false,
    "memoryGiB": 61,
    "name": "ml.p3.2xlarge",
    "vcpuNum": 8
   },
   {
    "_defaultOrder": 36,
    "_isFastLaunch": false,
    "category": "Accelerated computing",
    "gpuNum": 4,
    "hideHardwareSpecs": false,
    "memoryGiB": 244,
    "name": "ml.p3.8xlarge",
    "vcpuNum": 32
   },
   {
    "_defaultOrder": 37,
    "_isFastLaunch": false,
    "category": "Accelerated computing",
    "gpuNum": 8,
    "hideHardwareSpecs": false,
    "memoryGiB": 488,
    "name": "ml.p3.16xlarge",
    "vcpuNum": 64
   },
   {
    "_defaultOrder": 38,
    "_isFastLaunch": false,
    "category": "Accelerated computing",
    "gpuNum": 8,
    "hideHardwareSpecs": false,
    "memoryGiB": 768,
    "name": "ml.p3dn.24xlarge",
    "vcpuNum": 96
   },
   {
    "_defaultOrder": 39,
    "_isFastLaunch": false,
    "category": "Memory Optimized",
    "gpuNum": 0,
    "hideHardwareSpecs": false,
    "memoryGiB": 16,
    "name": "ml.r5.large",
    "vcpuNum": 2
   },
   {
    "_defaultOrder": 40,
    "_isFastLaunch": false,
    "category": "Memory Optimized",
    "gpuNum": 0,
    "hideHardwareSpecs": false,
    "memoryGiB": 32,
    "name": "ml.r5.xlarge",
    "vcpuNum": 4
   },
   {
    "_defaultOrder": 41,
    "_isFastLaunch": false,
    "category": "Memory Optimized",
    "gpuNum": 0,
    "hideHardwareSpecs": false,
    "memoryGiB": 64,
    "name": "ml.r5.2xlarge",
    "vcpuNum": 8
   },
   {
    "_defaultOrder": 42,
    "_isFastLaunch": false,
    "category": "Memory Optimized",
    "gpuNum": 0,
    "hideHardwareSpecs": false,
    "memoryGiB": 128,
    "name": "ml.r5.4xlarge",
    "vcpuNum": 16
   },
   {
    "_defaultOrder": 43,
    "_isFastLaunch": false,
    "category": "Memory Optimized",
    "gpuNum": 0,
    "hideHardwareSpecs": false,
    "memoryGiB": 256,
    "name": "ml.r5.8xlarge",
    "vcpuNum": 32
   },
   {
    "_defaultOrder": 44,
    "_isFastLaunch": false,
    "category": "Memory Optimized",
    "gpuNum": 0,
    "hideHardwareSpecs": false,
    "memoryGiB": 384,
    "name": "ml.r5.12xlarge",
    "vcpuNum": 48
   },
   {
    "_defaultOrder": 45,
    "_isFastLaunch": false,
    "category": "Memory Optimized",
    "gpuNum": 0,
    "hideHardwareSpecs": false,
    "memoryGiB": 512,
    "name": "ml.r5.16xlarge",
    "vcpuNum": 64
   },
   {
    "_defaultOrder": 46,
    "_isFastLaunch": false,
    "category": "Memory Optimized",
    "gpuNum": 0,
    "hideHardwareSpecs": false,
    "memoryGiB": 768,
    "name": "ml.r5.24xlarge",
    "vcpuNum": 96
   },
   {
    "_defaultOrder": 47,
    "_isFastLaunch": false,
    "category": "Accelerated computing",
    "gpuNum": 1,
    "hideHardwareSpecs": false,
    "memoryGiB": 16,
    "name": "ml.g5.xlarge",
    "vcpuNum": 4
   },
   {
    "_defaultOrder": 48,
    "_isFastLaunch": false,
    "category": "Accelerated computing",
    "gpuNum": 1,
    "hideHardwareSpecs": false,
    "memoryGiB": 32,
    "name": "ml.g5.2xlarge",
    "vcpuNum": 8
   },
   {
    "_defaultOrder": 49,
    "_isFastLaunch": false,
    "category": "Accelerated computing",
    "gpuNum": 1,
    "hideHardwareSpecs": false,
    "memoryGiB": 64,
    "name": "ml.g5.4xlarge",
    "vcpuNum": 16
   },
   {
    "_defaultOrder": 50,
    "_isFastLaunch": false,
    "category": "Accelerated computing",
    "gpuNum": 1,
    "hideHardwareSpecs": false,
    "memoryGiB": 128,
    "name": "ml.g5.8xlarge",
    "vcpuNum": 32
   },
   {
    "_defaultOrder": 51,
    "_isFastLaunch": false,
    "category": "Accelerated computing",
    "gpuNum": 1,
    "hideHardwareSpecs": false,
    "memoryGiB": 256,
    "name": "ml.g5.16xlarge",
    "vcpuNum": 64
   },
   {
    "_defaultOrder": 52,
    "_isFastLaunch": false,
    "category": "Accelerated computing",
    "gpuNum": 4,
    "hideHardwareSpecs": false,
    "memoryGiB": 192,
    "name": "ml.g5.12xlarge",
    "vcpuNum": 48
   },
   {
    "_defaultOrder": 53,
    "_isFastLaunch": false,
    "category": "Accelerated computing",
    "gpuNum": 4,
    "hideHardwareSpecs": false,
    "memoryGiB": 384,
    "name": "ml.g5.24xlarge",
    "vcpuNum": 96
   },
   {
    "_defaultOrder": 54,
    "_isFastLaunch": false,
    "category": "Accelerated computing",
    "gpuNum": 8,
    "hideHardwareSpecs": false,
    "memoryGiB": 768,
    "name": "ml.g5.48xlarge",
    "vcpuNum": 192
   },
   {
    "_defaultOrder": 55,
    "_isFastLaunch": false,
    "category": "Accelerated computing",
    "gpuNum": 8,
    "hideHardwareSpecs": false,
    "memoryGiB": 1152,
    "name": "ml.p4d.24xlarge",
    "vcpuNum": 96
   },
   {
    "_defaultOrder": 56,
    "_isFastLaunch": false,
    "category": "Accelerated computing",
    "gpuNum": 8,
    "hideHardwareSpecs": false,
    "memoryGiB": 1152,
    "name": "ml.p4de.24xlarge",
    "vcpuNum": 96
   }
  ],
  "instance_type": "ml.t3.medium",
  "kernelspec": {
   "display_name": "Python 3 (Data Science)",
   "language": "python",
   "name": "python3__SAGEMAKER_INTERNAL__arn:aws:sagemaker:us-east-1:081325390199:image/datascience-1.0"
  },
  "language_info": {
   "codemirror_mode": {
    "name": "ipython",
    "version": 3
   },
   "file_extension": ".py",
   "mimetype": "text/x-python",
   "name": "python",
   "nbconvert_exporter": "python",
   "pygments_lexer": "ipython3",
   "version": "3.7.10"
  }
 },
 "nbformat": 4,
 "nbformat_minor": 5
}
