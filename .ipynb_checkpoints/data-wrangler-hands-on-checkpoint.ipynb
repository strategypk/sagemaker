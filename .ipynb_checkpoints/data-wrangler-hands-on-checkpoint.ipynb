{
 "cells": [
  {
   "cell_type": "code",
   "execution_count": 1,
   "id": "9394be35",
   "metadata": {},
   "outputs": [],
   "source": [
    "from sagemaker.s3 import S3Uploader\n",
    "import sagemaker"
   ]
  },
  {
   "cell_type": "code",
   "execution_count": 3,
   "id": "10b98703",
   "metadata": {},
   "outputs": [],
   "source": [
    "sagemaker_session = sagemaker.Session()\n",
    "bucket = sagemaker_session.default_bucket()\n",
    "prefix = 'data-wrangler-demo'"
   ]
  },
  {
   "cell_type": "code",
   "execution_count": 5,
   "id": "5026ac27",
   "metadata": {},
   "outputs": [
    {
     "name": "stdout",
     "output_type": "stream",
     "text": [
      "--2023-06-10 21:50:42--  https://sagemaker-sample-files.s3.amazonaws.com/datasets/tabular/uci_statlog_german_credit_data/german_credit_data.csv\n",
      "Resolving sagemaker-sample-files.s3.amazonaws.com (sagemaker-sample-files.s3.amazonaws.com)... 52.217.206.137, 54.231.232.81, 52.216.211.129, ...\n",
      "Connecting to sagemaker-sample-files.s3.amazonaws.com (sagemaker-sample-files.s3.amazonaws.com)|52.217.206.137|:443... connected.\n",
      "HTTP request sent, awaiting response... 200 OK\n",
      "Length: 99589 (97K) [text/csv]\n",
      "Saving to: ‘german_credit_data.csv’\n",
      "\n",
      "100%[======================================>] 99,589      --.-K/s   in 0.002s  \n",
      "\n",
      "2023-06-10 21:50:42 (40.9 MB/s) - ‘german_credit_data.csv’ saved [99589/99589]\n",
      "\n"
     ]
    }
   ],
   "source": [
    "!wget https://sagemaker-sample-files.s3.amazonaws.com/datasets/tabular/uci_statlog_german_credit_data/german_credit_data.csv\n"
   ]
  },
  {
   "cell_type": "code",
   "execution_count": 6,
   "id": "e00aeb5b",
   "metadata": {},
   "outputs": [
    {
     "name": "stdout",
     "output_type": "stream",
     "text": [
      "Data uploaded to: s3://sagemaker-us-east-1-348693786573/data-wrangler-demo/german_credit_data.csv\n"
     ]
    }
   ],
   "source": [
    "dataset_uri = S3Uploader.upload('german_credit_data.csv', 's3://{}/{}'.format(bucket,prefix))\n",
    "print('Data uploaded to: {}'.format(dataset_uri))"
   ]
  },
  {
   "cell_type": "code",
   "execution_count": 7,
   "id": "1d1f34c3",
   "metadata": {},
   "outputs": [
    {
     "data": {
      "text/plain": [
       "'sagemaker-us-east-1-348693786573'"
      ]
     },
     "execution_count": 7,
     "metadata": {},
     "output_type": "execute_result"
    }
   ],
   "source": [
    "bucket"
   ]
  },
  {
   "cell_type": "code",
   "execution_count": 8,
   "id": "7c2abe1f",
   "metadata": {},
   "outputs": [
    {
     "name": "stdout",
     "output_type": "stream",
     "text": [
      "total 7268\r\n",
      "-rw-rw-r-- 1 ec2-user ec2-user    3274 Jun  8 04:52 002 - Sessions.ipynb\r\n",
      "-rw-rw-r-- 1 ec2-user ec2-user   18730 Jun  8 04:52 005 - Glue Catalog.ipynb\r\n",
      "-rw-rw-r-- 1 ec2-user ec2-user   17501 Jun  9 13:09 01-prep_data.ipynb\r\n",
      "-rw-rw-r-- 1 ec2-user ec2-user 3391420 Jun  7 23:11 adult.csv\r\n",
      "-rw-rw-r-- 1 ec2-user ec2-user  969287 Feb 16  2021 bucket\r\n",
      "-rw-rw-r-- 1 ec2-user ec2-user  970457 Jun  7 23:11 churn.csv\r\n",
      "-rw-rw-r-- 1 ec2-user ec2-user  969287 Feb 16  2021 churn.txt\r\n",
      "-rw-rw-r-- 1 ec2-user ec2-user    3361 Jun 10 21:52 data-wrangler-hands-on.ipynb\r\n",
      "-rw-rw-r-- 1 ec2-user ec2-user   99589 Apr 16  2021 german_credit_data.csv\r\n",
      "drwxrwxr-x 5 ec2-user ec2-user    4096 Jun 10 04:53 \u001b[0m\u001b[01;34mModel-Hallucination\u001b[0m/\r\n",
      "-rw-rw-r-- 1 ec2-user ec2-user      13 Jun  7 23:11 README.md\r\n",
      "drwxrwxr-x 5 ec2-user ec2-user    4096 Jun  8 20:49 \u001b[01;34msagemaker\u001b[0m/\r\n",
      "-rw-rw-r-- 1 ec2-user ec2-user    3274 Jun  8 04:52 tutorial\r\n",
      "-rw-rw-r-- 1 ec2-user ec2-user  970457 Jun  7 23:11 WA_Fn-UseC_-Telco-Customer-Churn.csv\r\n"
     ]
    }
   ],
   "source": [
    "ls -l"
   ]
  },
  {
   "cell_type": "code",
   "execution_count": 10,
   "id": "210cb5e0",
   "metadata": {},
   "outputs": [
    {
     "name": "stdout",
     "output_type": "stream",
     "text": [
      "warning: adding embedded git repository: sagemaker\r\n",
      "\u001b[33mhint: You've added another git repository inside your current repository.\u001b[m\r\n",
      "\u001b[33mhint: Clones of the outer repository will not contain the contents of\u001b[m\r\n",
      "\u001b[33mhint: the embedded repository and will not know how to obtain it.\u001b[m\r\n",
      "\u001b[33mhint: If you meant to add a submodule, use:\u001b[m\r\n",
      "\u001b[33mhint: \u001b[m\r\n",
      "\u001b[33mhint: \tgit submodule add <url> sagemaker\u001b[m\r\n",
      "\u001b[33mhint: \u001b[m\r\n",
      "\u001b[33mhint: If you added this path by mistake, you can remove it from the\u001b[m\r\n",
      "\u001b[33mhint: index with:\u001b[m\r\n",
      "\u001b[33mhint: \u001b[m\r\n",
      "\u001b[33mhint: \tgit rm --cached sagemaker\u001b[m\r\n",
      "\u001b[33mhint: \u001b[m\r\n",
      "\u001b[33mhint: See \"git help submodule\" for more information.\u001b[m\r\n"
     ]
    }
   ],
   "source": [
    "!git add ."
   ]
  },
  {
   "cell_type": "markdown",
   "id": "dc7a1a92",
   "metadata": {},
   "source": [
    "!git commit -m \"sagemaker-june10\""
   ]
  },
  {
   "cell_type": "code",
   "execution_count": 17,
   "id": "879cbf0d",
   "metadata": {},
   "outputs": [],
   "source": [
    "!git config --global user.name \"PK\""
   ]
  },
  {
   "cell_type": "code",
   "execution_count": 18,
   "id": "6f74a603",
   "metadata": {},
   "outputs": [],
   "source": [
    "# !git config --global pk.gmail strategypk@gmail.com\n",
    "!git config --global user.email strategypk@gmail.com"
   ]
  },
  {
   "cell_type": "code",
   "execution_count": 19,
   "id": "7bed6cd0",
   "metadata": {},
   "outputs": [
    {
     "name": "stdout",
     "output_type": "stream",
     "text": [
      "Username for 'https://github.com/strategypk/sagemaker.git': ^C\n"
     ]
    }
   ],
   "source": [
    "!git push\n"
   ]
  },
  {
   "cell_type": "code",
   "execution_count": 20,
   "id": "f3237501",
   "metadata": {},
   "outputs": [
    {
     "name": "stdout",
     "output_type": "stream",
     "text": [
      "total 7448\r\n",
      "-rw-rw-r-- 1 ec2-user ec2-user    3274 Jun  8 04:52 002 - Sessions.ipynb\r\n",
      "-rw-rw-r-- 1 ec2-user ec2-user   18730 Jun  8 04:52 005 - Glue Catalog.ipynb\r\n",
      "-rw-rw-r-- 1 ec2-user ec2-user   17501 Jun  9 13:09 01-prep_data.ipynb\r\n",
      "-rw-rw-r-- 1 ec2-user ec2-user 3391420 Jun  7 23:11 adult.csv\r\n",
      "-rw-rw-r-- 1 ec2-user ec2-user  969287 Feb 16  2021 bucket\r\n",
      "-rw-rw-r-- 1 ec2-user ec2-user  970457 Jun  7 23:11 churn.csv\r\n",
      "-rw-rw-r-- 1 ec2-user ec2-user  969287 Feb 16  2021 churn.txt\r\n",
      "-rw-rw-r-- 1 ec2-user ec2-user  184983 Jun 10 21:58 data-wrangler-hands-on.ipynb\r\n",
      "-rw-rw-r-- 1 ec2-user ec2-user   99589 Apr 16  2021 german_credit_data.csv\r\n",
      "drwxrwxr-x 5 ec2-user ec2-user    4096 Jun 10 04:53 \u001b[0m\u001b[01;34mModel-Hallucination\u001b[0m/\r\n",
      "-rw-rw-r-- 1 ec2-user ec2-user      13 Jun  7 23:11 README.md\r\n",
      "drwxrwxr-x 5 ec2-user ec2-user    4096 Jun  8 20:49 \u001b[01;34msagemaker\u001b[0m/\r\n",
      "-rw-rw-r-- 1 ec2-user ec2-user    3274 Jun  8 04:52 tutorial\r\n",
      "-rw-rw-r-- 1 ec2-user ec2-user  970457 Jun  7 23:11 WA_Fn-UseC_-Telco-Customer-Churn.csv\r\n"
     ]
    }
   ],
   "source": [
    "ls -l"
   ]
  },
  {
   "cell_type": "code",
   "execution_count": 21,
   "id": "1b205b4c",
   "metadata": {},
   "outputs": [],
   "source": [
    "mkdir wrangler"
   ]
  },
  {
   "cell_type": "code",
   "execution_count": 22,
   "id": "57cd8199",
   "metadata": {},
   "outputs": [
    {
     "data": {
      "text/plain": [
       "<function dir>"
      ]
     },
     "execution_count": 22,
     "metadata": {},
     "output_type": "execute_result"
    }
   ],
   "source": [
    "dir\n"
   ]
  },
  {
   "cell_type": "code",
   "execution_count": 23,
   "id": "e8247779",
   "metadata": {},
   "outputs": [
    {
     "name": "stdout",
     "output_type": "stream",
     "text": [
      "002 - Sessions.ipynb          german_credit_data.csv\r\n",
      "005 - Glue Catalog.ipynb      \u001b[0m\u001b[01;34mModel-Hallucination\u001b[0m/\r\n",
      "01-prep_data.ipynb            README.md\r\n",
      "adult.csv                     \u001b[01;34msagemaker\u001b[0m/\r\n",
      "bucket                        tutorial\r\n",
      "churn.csv                     WA_Fn-UseC_-Telco-Customer-Churn.csv\r\n",
      "churn.txt                     \u001b[01;34mwrangler\u001b[0m/\r\n",
      "data-wrangler-hands-on.ipynb\r\n"
     ]
    }
   ],
   "source": [
    "ls"
   ]
  },
  {
   "cell_type": "code",
   "execution_count": 24,
   "id": "6b007763",
   "metadata": {},
   "outputs": [],
   "source": [
    "mv ger*.* ./wrangler"
   ]
  },
  {
   "cell_type": "code",
   "execution_count": 25,
   "id": "9a57865a",
   "metadata": {},
   "outputs": [
    {
     "name": "stdout",
     "output_type": "stream",
     "text": [
      "total 7352\r\n",
      "-rw-rw-r-- 1 ec2-user ec2-user    3274 Jun  8 04:52 002 - Sessions.ipynb\r\n",
      "-rw-rw-r-- 1 ec2-user ec2-user   18730 Jun  8 04:52 005 - Glue Catalog.ipynb\r\n",
      "-rw-rw-r-- 1 ec2-user ec2-user   17501 Jun  9 13:09 01-prep_data.ipynb\r\n",
      "-rw-rw-r-- 1 ec2-user ec2-user 3391420 Jun  7 23:11 adult.csv\r\n",
      "-rw-rw-r-- 1 ec2-user ec2-user  969287 Feb 16  2021 bucket\r\n",
      "-rw-rw-r-- 1 ec2-user ec2-user  970457 Jun  7 23:11 churn.csv\r\n",
      "-rw-rw-r-- 1 ec2-user ec2-user  969287 Feb 16  2021 churn.txt\r\n",
      "-rw-rw-r-- 1 ec2-user ec2-user  186307 Jun 10 22:00 data-wrangler-hands-on.ipynb\r\n",
      "drwxrwxr-x 5 ec2-user ec2-user    4096 Jun 10 04:53 \u001b[0m\u001b[01;34mModel-Hallucination\u001b[0m/\r\n",
      "-rw-rw-r-- 1 ec2-user ec2-user      13 Jun  7 23:11 README.md\r\n",
      "drwxrwxr-x 5 ec2-user ec2-user    4096 Jun  8 20:49 \u001b[01;34msagemaker\u001b[0m/\r\n",
      "-rw-rw-r-- 1 ec2-user ec2-user    3274 Jun  8 04:52 tutorial\r\n",
      "-rw-rw-r-- 1 ec2-user ec2-user  970457 Jun  7 23:11 WA_Fn-UseC_-Telco-Customer-Churn.csv\r\n",
      "drwxrwxr-x 2 ec2-user ec2-user    4096 Jun 10 22:02 \u001b[01;34mwrangler\u001b[0m/\r\n"
     ]
    }
   ],
   "source": [
    "ls -l\n"
   ]
  },
  {
   "cell_type": "code",
   "execution_count": null,
   "id": "26818c7a",
   "metadata": {},
   "outputs": [],
   "source": []
  }
 ],
 "metadata": {
  "kernelspec": {
   "display_name": "conda_python3",
   "language": "python",
   "name": "conda_python3"
  },
  "language_info": {
   "codemirror_mode": {
    "name": "ipython",
    "version": 3
   },
   "file_extension": ".py",
   "mimetype": "text/x-python",
   "name": "python",
   "nbconvert_exporter": "python",
   "pygments_lexer": "ipython3",
   "version": "3.10.8"
  }
 },
 "nbformat": 4,
 "nbformat_minor": 5
}
